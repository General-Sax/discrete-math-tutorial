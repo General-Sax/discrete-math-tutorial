{
 "cells": [
  {
   "cell_type": "markdown",
   "metadata": {},
   "source": [
    "# Discrete Mathematics\n",
    "\n",
    "[Discrete Mathematics - Wikipedia](https://en.wikipedia.org/wiki/Discrete_mathematics)\n",
    "[What Is Discrete Math?](https://cse.buffalo.edu/~rapaport/191/S09/whatisdiscmath.html)\n",
    "\n",
    "***\n",
    "\n",
    "### **Topics**\n",
    "1. Logic & Boolean Algebra\n",
    "1. Set Theory\n",
    "1. Relations & Functions\n",
    "1. Sequences & Series\n",
    "1. Algorithms & Computation\n",
    "1. Number Theory\n",
    "1. Matrix Theory\n",
    "1. Induction & Recursion\n",
    "1. Counting and Discrete Probability\n",
    "1. Graph Theory\n",
    "    - Undirected Graphs\n",
    "    - Directed Graphs\n",
    "    - Trees\n",
    "    - \n",
    "1. Combinatorics\n",
    "1. \n"
   ]
  },
  {
   "cell_type": "code",
   "execution_count": null,
   "metadata": {},
   "outputs": [],
   "source": []
  }
 ],
 "metadata": {
  "kernelspec": {
   "display_name": "Python 3",
   "language": "python",
   "name": "python3"
  },
  "language_info": {
   "codemirror_mode": {
    "name": "ipython",
    "version": 3
   },
   "file_extension": ".py",
   "mimetype": "text/x-python",
   "name": "python",
   "nbconvert_exporter": "python",
   "pygments_lexer": "ipython3",
   "version": "3.6.7"
  }
 },
 "nbformat": 4,
 "nbformat_minor": 2
}
